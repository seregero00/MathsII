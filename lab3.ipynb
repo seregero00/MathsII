{
 "cells": [
  {
   "attachments": {},
   "cell_type": "markdown",
   "metadata": {},
   "source": [
    "# Lab 3\n",
    "\n",
    "## Intro:\n",
    "On this Laboratory session we are going to work with affine transformations and camera prjections.\n",
    "Create a zip File with the next structure: Surname_YourName_Lab4.zip with your solutions inside.\n",
    "Please, remember to provide comments about your procedure.\n",
    "You have to deliver this assignment on the digital campus before: 9th Jan at 17.30h."
   ]
  },
  {
   "attachments": {},
   "cell_type": "markdown",
   "metadata": {},
   "source": [
    "---\n",
    "Import packages"
   ]
  },
  {
   "cell_type": "code",
   "execution_count": 26,
   "metadata": {},
   "outputs": [],
   "source": [
    "import numpy as np\n",
    "import matplotlib.pyplot as plt\n",
    "from mpl_toolkits.mplot3d import Axes3D"
   ]
  },
  {
   "attachments": {},
   "cell_type": "markdown",
   "metadata": {},
   "source": [
    "---\n",
    "\n",
    "## Exercise 1:\n",
    "\n",
    "The point p has coordinates $^A p = (3, 4)^T$ on a frame {$A$} and coordinates $^B p = (-2.5, 0.5)^T$ on a frame {$B$}. It is known that the angle between axis of frame {$A$} and the axes of frame {$B$} is 30deg counterclockwise.\n",
    "\n"
   ]
  },
  {
   "cell_type": "code",
   "execution_count": 17,
   "metadata": {},
   "outputs": [],
   "source": [
    "A_p = np.atleast_2d([3, 4]).T\n",
    "B_p = np.atleast_2d([-2.5, 0.5]).T\n",
    "angle = 30 #degrees"
   ]
  },
  {
   "attachments": {},
   "cell_type": "markdown",
   "metadata": {},
   "source": [
    "### 1.1 \n",
    "Which are the coordinates of the origin of {$A$} as seen from {$B$}?"
   ]
  },
  {
   "cell_type": "code",
   "execution_count": 18,
   "metadata": {},
   "outputs": [
    {
     "name": "stdout",
     "output_type": "stream",
     "text": [
      "[[ 0.98937215]\n",
      " [-3.08110067]]\n"
     ]
    }
   ],
   "source": [
    "R_ab = np.array([[ np.cos(angle),(np.sin(angle)),],\n",
    "                [ -(np.sin(angle)),np.cos(angle),]])\n",
    "\n",
    "\n",
    "a_D_ab = -(R_ab@(A_p)) + B_p\n",
    "print(a_D_ab)\n"
   ]
  },
  {
   "attachments": {},
   "cell_type": "markdown",
   "metadata": {},
   "source": [
    "### 1.2\n",
    "\n",
    "Which are the coordinates of the origin of {$B$} seen from {$A$}?"
   ]
  },
  {
   "cell_type": "code",
   "execution_count": 19,
   "metadata": {},
   "outputs": [
    {
     "name": "stdout",
     "output_type": "stream",
     "text": [
      "[[2.89161281]\n",
      " [1.45279521]]\n"
     ]
    }
   ],
   "source": [
    "R_ba = np.array([[ np.cos(angle),-(np.sin(angle)),],\n",
    "                  [ np.sin(angle),np.cos(angle),]])\n",
    "\n",
    "\n",
    "b_D_ba = -(R_ba@(B_p)) + A_p\n",
    "print(b_D_ba)"
   ]
  },
  {
   "attachments": {},
   "cell_type": "markdown",
   "metadata": {},
   "source": [
    "### 1.3\n",
    "Which are the coordinates of a point q expressed in {$A$} if $^B q = (-2.5, 0.5)^T$"
   ]
  },
  {
   "cell_type": "code",
   "execution_count": 20,
   "metadata": {},
   "outputs": [
    {
     "name": "stdout",
     "output_type": "stream",
     "text": [
      "[[3.]\n",
      " [4.]]\n"
     ]
    }
   ],
   "source": [
    "q = (R_ba @ B_p) + b_D_ba\n",
    "print(q)"
   ]
  },
  {
   "attachments": {},
   "cell_type": "markdown",
   "metadata": {},
   "source": [
    "---"
   ]
  },
  {
   "attachments": {},
   "cell_type": "markdown",
   "metadata": {},
   "source": [
    "## Exercise 2\n",
    "\n",
    "Let {$A$}, {$B$} and {$C$} to be 3 different reference frames. From them we know that:\n",
    "\n",
    "- The origin of {$B$} seen from {$A$} is $^A o_B = (3,1,-2)^{T}$\n",
    "- The origin of {$C$} seen from {$B$} is  $^B o_C = (-3,1,-2)^{T}$\n",
    "- The three frames has different orientations in space. In fact:\n",
    "  - The set of Euler angles stored in $\\eta$ as $\\eta = (\\psi, \\theta, \\phi)^T$ with $\\eta = (25, 145, 30)^T$ (in degrees)represents 3 consecutive rotations about z, y, and x respectively that allows to transform from {$B$} to {$A$} (only rotation) as $^Av =  \\,^A{\\bf{R}}_B \\, ^Bv  = {\\bf{R}}(\\psi,\\theta,\\varphi)  \\, ^Bv$\n",
    "  - The quaternion $\\mathring{q} = \\frac{1}{7}(-3.5\\sqrt{3}, 3, -1, -1.5)^T$ allows to express in {$B$} a vector defined in {$C$}, if {$B$} and {$C$} had the same origin\n",
    "\n",
    "Let in addition $^C v_1 = (0,2,0)^{T} $ and $^C v_2 = (0,2,5)^{T}$ to be points which coordinates are known in {$C$}"
   ]
  },
  {
   "cell_type": "code",
   "execution_count": 21,
   "metadata": {},
   "outputs": [],
   "source": [
    "A_O_B = np.atleast_2d([3,1,-2]).T\n",
    "B_O_C = np.atleast_2d([-3,1,-2]).T\n",
    "eta = np.array([25,145,30]) # In degrees\n",
    "q = 1/7* np.atleast_2d([-3.5*np.sqrt(3), 3, -1, -1.5]).T\n",
    "C_v1 = np.atleast_2d([0, 2, 0]).T\n",
    "C_v2 = np.atleast_2d([0, 2, 5]).T"
   ]
  },
  {
   "attachments": {},
   "cell_type": "markdown",
   "metadata": {},
   "source": [
    "\n",
    "\n",
    "With the information provided above, provide:\n",
    "\n",
    "### 2.1 \n",
    "The affine expression (Formula! no matrix here) that allows to relate a vector originally given in {$C$} to {$B$}"
   ]
  },
  {
   "attachments": {},
   "cell_type": "markdown",
   "metadata": {},
   "source": []
  },
  {
   "attachments": {},
   "cell_type": "markdown",
   "metadata": {},
   "source": [
    "### 2.2\n",
    " The affine matrix that allows to express a vector originally given in {$C$} to {$A$}"
   ]
  },
  {
   "cell_type": "code",
   "execution_count": null,
   "metadata": {},
   "outputs": [],
   "source": []
  },
  {
   "attachments": {},
   "cell_type": "markdown",
   "metadata": {},
   "source": [
    "### 2.3\n",
    "The coordinates of the vectors $^C v_1$ and $^C v_2$ in frames {$A$} and {$B$}"
   ]
  },
  {
   "cell_type": "code",
   "execution_count": null,
   "metadata": {},
   "outputs": [],
   "source": []
  },
  {
   "attachments": {},
   "cell_type": "markdown",
   "metadata": {},
   "source": [
    "---"
   ]
  },
  {
   "attachments": {},
   "cell_type": "markdown",
   "metadata": {},
   "source": [
    "## Exercise 3\n",
    "\n",
    "The points described by the columns of the matrix A are points contained into a circle, and they are defined in a world frame {$W$}. A camera is situated at point $^W c = (11, 6, 1)^T$ defined in the world frame. Moreover the orientation of this camera frame is achieved by rotating the world frame -90deg about its $y$ axis followed by -20deg about the resulting $z$ axis. If the camera has a focal length $f = \\frac{1}{34}$ m:"
   ]
  },
  {
   "cell_type": "code",
   "execution_count": 21,
   "metadata": {},
   "outputs": [
    {
     "name": "stdout",
     "output_type": "stream",
     "text": [
      "First 5 columns of A\n",
      "[[6.90178002 6.88824197 6.8658289  6.83476475]\n",
      " [6.09983342 6.19866933 6.29552021 6.38941834]\n",
      " [1.57949307 1.58580597 1.59625735 1.6107428 ]]\n"
     ]
    }
   ],
   "source": [
    "A = np.load('ex3.npy')\n",
    "print(\"First 5 columns of A\")\n",
    "print(A[:,1:5])\n",
    "\n",
    "w_C = np.atleast_2d([11, 6, 1]).T\n",
    "alpha1 = -90 # deg abput y\n",
    "alpha2 = -20 # deg abput z\n",
    "f = 1.0/34 # m"
   ]
  },
  {
   "attachments": {},
   "cell_type": "markdown",
   "metadata": {},
   "source": [
    "### 3.1\n",
    "Implement a function that takes as argument the World to Camera afine matrix, the focal distance and a list of 3D points in the world frame and returns a list of 2D points projected on the camera plane"
   ]
  },
  {
   "attachments": {},
   "cell_type": "markdown",
   "metadata": {},
   "source": [
    "On the next cell is implemented a way to got the World to Camera affine matrix"
   ]
  },
  {
   "cell_type": "code",
   "execution_count": 40,
   "metadata": {},
   "outputs": [
    {
     "name": "stdout",
     "output_type": "stream",
     "text": [
      "Rotation Matrix from World to Camera:\n",
      "[[ 5.75395780e-17 -2.09426937e-17  1.00000000e+00]\n",
      " [ 3.42020143e-01  9.39692621e-01  0.00000000e+00]\n",
      " [-9.39692621e-01  3.42020143e-01  6.12323400e-17]]\n",
      "\n",
      "From World to Camera:\n",
      "[[ 5.75395780e-17  3.42020143e-01 -9.39692621e-01  1.10000000e+01]\n",
      " [-2.09426937e-17  9.39692621e-01  3.42020143e-01  6.00000000e+00]\n",
      " [ 1.00000000e+00  0.00000000e+00  6.12323400e-17  1.00000000e+00]\n",
      " [ 0.00000000e+00  0.00000000e+00  0.00000000e+00  1.00000000e+00]]\n"
     ]
    }
   ],
   "source": [
    "Rotz = np.matrix([[np.cos(np.radians(alpha2)), np.sin(np.radians(alpha2)), 0], [-np.sin(np.radians(alpha2)), np.cos(np.radians(alpha2)), 0], [0, 0, 1]])\n",
    "Roty = np.matrix([[np.cos(np.radians(alpha1)), 0, -np.sin(np.radians(alpha1))], [0, 1, 0], [np.sin(np.radians(alpha1)), 0, np.cos(np.radians(alpha1))]])\n",
    "\n",
    "R = Roty@Rotz\n",
    "\n",
    "#Distance from C to W as seen from C using the transpose rotation matrix and the distance from W to C seen from W.\n",
    "c_W = -R.T @ w_C\n",
    "\n",
    "#Afine Matrix from c to W\n",
    "c_to_W = np.matrix([[R[0, 0], R[0, 1], R[0, 2], c_W[0, 0]],\n",
    "                    [R[1, 0], R[1, 1], R[1, 2], c_W[1, 0]],\n",
    "                    [R[2, 0], R[2, 1], R[2, 2], c_W[2, 0]],\n",
    "                    [0, 0, 0, 1]])\n",
    "\n",
    "#Afine Matrix from W to c\n",
    "W_to_c = np.matrix([[R.T[0, 0], R.T[0, 1], R.T[0, 2], w_C[0, 0]],\n",
    "                    [R.T[1, 0], R.T[1, 1], R.T[1, 2], w_C[1, 0]],\n",
    "                    [R.T[2, 0], R.T[2, 1], R.T[2, 2], w_C[2, 0]],\n",
    "                    [0, 0, 0, 1]])\n",
    "\n",
    "print(\"Rotation Matrix from World to Camera:\")\n",
    "print(R)\n",
    "\n",
    "print(\"\\nFrom World to Camera:\")\n",
    "print(W_to_c)"
   ]
  },
  {
   "cell_type": "code",
   "execution_count": 41,
   "metadata": {},
   "outputs": [
    {
     "name": "stdout",
     "output_type": "stream",
     "text": [
      "[[-0.00088583 -0.00089207 -0.00090686 -0.00093017 -0.00096187 -0.0010018\n",
      "  -0.00104971 -0.00110528 -0.00116814 -0.00123781 -0.00131377 -0.00139539\n",
      "  -0.00148197 -0.00157274 -0.00166686 -0.00176341 -0.00186141 -0.00195984\n",
      "  -0.00205763 -0.00215367 -0.00224686 -0.0023361  -0.00242029 -0.0024984\n",
      "  -0.00256945 -0.00263253 -0.00268686 -0.00273174 -0.00276661 -0.00279105\n",
      "  -0.00280479 -0.00280771 -0.00279982 -0.00278132 -0.0027525  -0.00271382\n",
      "  -0.00266585 -0.00260925 -0.00254479 -0.0024733  -0.00239567 -0.00231283\n",
      "  -0.00222575 -0.00213538 -0.00204271 -0.00194868 -0.00185424 -0.00176029\n",
      "  -0.00166769 -0.00157727 -0.00148982 -0.00140607 -0.00132669 -0.00125233\n",
      "  -0.00118355 -0.00112089 -0.00106483 -0.00101578 -0.00097413 -0.00094019\n",
      "  -0.00091424 -0.00089651 -0.00088715]\n",
      " [-0.00384863 -0.00403445 -0.00421573 -0.00439089 -0.00455837 -0.0047166\n",
      "  -0.00486408 -0.00499931 -0.00512087 -0.0052274  -0.00531763 -0.00539039\n",
      "  -0.00544464 -0.0054795  -0.00549423 -0.0054883  -0.00546139 -0.00541341\n",
      "  -0.00534451 -0.00525511 -0.00514591 -0.00501786 -0.00487221 -0.00471045\n",
      "  -0.00453433 -0.00434583 -0.00414711 -0.00394053 -0.00372853 -0.00351366\n",
      "  -0.00329849 -0.0030856  -0.0028775  -0.00267661 -0.0024852  -0.00230539\n",
      "  -0.0021391  -0.001988   -0.00185356 -0.00173698 -0.00163921 -0.00156096\n",
      "  -0.00150269 -0.00146462 -0.00144676 -0.00144892 -0.00147069 -0.00151153\n",
      "  -0.00157072 -0.00164741 -0.00174064 -0.00184934 -0.00197234 -0.00210842\n",
      "  -0.00225626 -0.00241452 -0.0025818  -0.00275664 -0.00293757 -0.00312308\n",
      "  -0.00331165 -0.00350173 -0.00369175]]\n"
     ]
    }
   ],
   "source": [
    "def W_to_Cam_proj(CAW, f, p3D):\n",
    "\n",
    "  p2d = np.zeros((2,len(p3D.T)))\n",
    "  h = np.ones((1, len(p3D.T)))\n",
    "  p3Dh = np.vstack((p3D, h))\n",
    " \n",
    "  p3Dc = CAW @ p3Dh\n",
    "\n",
    "  for i in range(len(p3D.T)):\n",
    "    p2d[0, i] = (p3Dc[0, i] / p3Dc[2, i]) * f\n",
    "    p2d[1, i] = (p3Dc[1, i] / p3Dc[2, i]) * f\n",
    "        \n",
    "  return p2d\n",
    "  \n",
    "print(W_to_Cam_proj(c_to_W, f, A))"
   ]
  },
  {
   "attachments": {},
   "cell_type": "markdown",
   "metadata": {},
   "source": [
    "### 3.2\n",
    "Make a plot with the view of the points of the circle projected into the camera plane."
   ]
  },
  {
   "cell_type": "code",
   "execution_count": 38,
   "metadata": {},
   "outputs": [
    {
     "data": {
      "text/plain": [
       "(-0.01, 0.0)"
      ]
     },
     "execution_count": 38,
     "metadata": {},
     "output_type": "execute_result"
    },
    {
     "data": {
      "image/png": "[encoded data removed]",
      "text/plain": [
       "<Figure size 640x480 with 1 Axes>"
      ]
     },
     "metadata": {},
     "output_type": "display_data"
    }
   ],
   "source": [
    "plt.plot(W_to_Cam_proj(c_to_W, f, A)[0], W_to_Cam_proj(c_to_W, f, A)[1])\n",
    "\n",
    "plt.xlabel(\"x [u]\")\n",
    "plt.ylabel(\"y [u]\")\n",
    "\n",
    "plt.xlim([-0.01, 0])\n",
    "plt.ylim([-0.01, 0])"
   ]
  },
  {
   "attachments": {},
   "cell_type": "markdown",
   "metadata": {},
   "source": [
    "### 3.2\n",
    "Make also a 3D plot where all the scene is drawn in the world coordinates. The scene must contain the 2 reference frames (2 orthogonal sets of vectors) and the circle points. You have an example of how to draw axis at the end of this netebook."
   ]
  },
  {
   "cell_type": "code",
   "execution_count": 42,
   "metadata": {},
   "outputs": [
    {
     "data": {
      "image/png": "[encoded data removed]",
      "text/plain": [
       "<Figure size 640x480 with 1 Axes>"
      ]
     },
     "metadata": {},
     "output_type": "display_data"
    }
   ],
   "source": [
    "origin = np.atleast_2d([0,0,0]).T\n",
    "x_axis = np.atleast_2d([1,0,0]).T\n",
    "y_axis = np.atleast_2d([0,1,0]).T\n",
    "z_axis = np.atleast_2d([0,0,1]).T\n",
    "\n",
    "fig, ax = plt.subplots(subplot_kw={\"projection\": \"3d\"})\n",
    "ax.scatter(A[0], A[1], A[2])\n",
    "\n",
    "Cx_axis = W_to_c@np.append(x_axis, np.array([[1]]), axis=0)\n",
    "Cy_axis = W_to_c@np.append(y_axis, np.array([[1]]), axis=0)\n",
    "Cz_axis = W_to_c@np.append(z_axis, np.array([[1]]), axis=0)\n",
    "\n",
    "x, y, z = np.hstack((w_C[0, 0],Cx_axis[0, 0])), np.hstack((w_C[1, 0],Cx_axis[1, 0])), np.hstack((w_C[2, 0], Cx_axis[2, 0]))\n",
    "ax.plot(x, y, z, 'g')\n",
    "x, y, z = np.hstack((w_C[0, 0],Cy_axis[0, 0])), np.hstack((w_C[1, 0],Cy_axis[1, 0])), np.hstack((w_C[2, 0], Cy_axis[2, 0]))\n",
    "ax.plot(x, y, z, 'g')\n",
    "x, y, z = np.hstack((w_C[0, 0],Cz_axis[0, 0])), np.hstack((w_C[1, 0],Cz_axis[1, 0])), np.hstack((w_C[2, 0], Cz_axis[2, 0]))\n",
    "ax.plot(x, y, z, 'r')\n",
    "\n",
    "ax.set_xlabel(\"x [u]\")\n",
    "ax.set_ylabel(\"y [u]\")\n",
    "ax.set_zlabel(\"z [u]\")\n",
    "\n",
    "plt.xlim([0, 8])\n",
    "plt.ylim([0, 8])\n",
    "ax.set_zlim([0, 8])\n",
    "\n",
    "plt.show()"
   ]
  },
  {
   "attachments": {},
   "cell_type": "markdown",
   "metadata": {},
   "source": [
    "---"
   ]
  },
  {
   "attachments": {},
   "cell_type": "markdown",
   "metadata": {},
   "source": [
    "## Exercise 4\n",
    "\n",
    "The columns of the matrix $A$, represents the coordinates of 4 points defined in a world frame. From this 4 points, two segments are defined. The segment one, goes from the point defined by the first column to the point defined by the second column. The second segment is defined by the other two points. \n",
    "\n",
    "A camera frame is seeing the scene. The origin of the world frame seen from the camera frame is given by the vector $^C w = (4.665, 3.735, -0.5395)^T$. And the orientation of the camera frame is obtained after rotating the world frame $-170$deg about the direction $u = (0.01, -0.2, 1)^T$\n"
   ]
  },
  {
   "cell_type": "code",
   "execution_count": 24,
   "metadata": {},
   "outputs": [
    {
     "name": "stdout",
     "output_type": "stream",
     "text": [
      "[[0.91147867 3.72073483 1.96592583 2.66628767]\n",
      " [1.93969262 2.87938524 1.         3.81907786]\n",
      " [3.33036609 4.43718931 3.25881905 4.50873636]]\n"
     ]
    }
   ],
   "source": [
    "A = np.load('ex4.npy')\n",
    "print(A)\n",
    "C_w = np.atleast_2d([4.665, 3.735, -0.5395]).T\n",
    "angle = -170 # degrees\n",
    "u = np.atleast_2d([0.01,-.2,1]).T\n"
   ]
  },
  {
   "attachments": {},
   "cell_type": "markdown",
   "metadata": {},
   "source": [
    "\n",
    "\n",
    "With the data provided determine:\n",
    "### 4.1 The minimum angle that both segments forms (hint, they intersect)"
   ]
  },
  {
   "cell_type": "code",
   "execution_count": 1,
   "metadata": {},
   "outputs": [
    {
     "name": "stdout",
     "output_type": "stream",
     "text": [
      "53.13010253636807 grados\n"
     ]
    }
   ],
   "source": [
    "import numpy as np\n",
    "\n",
    "# Matriz A\n",
    "A = np.array([[0.91147867, 3.72073483, 1.96592583, 2.66628767],\n",
    "              [1.93969262, 2.87938524, 1.        , 3.81907786],\n",
    "              [3.33036609, 4.43718931, 3.25881905, 4.50873636]])\n",
    "\n",
    "# Definición de los segmentos a partir de los puntos\n",
    "segmento1 = A[:, 1] - A[:, 0]\n",
    "segmento2 = A[:, 3] - A[:, 2]\n",
    "\n",
    "# Cálculo de los ángulos\n",
    "cos_theta = np.dot(segmento1, segmento2) / (np.linalg.norm(segmento1) * np.linalg.norm(segmento2))\n",
    "theta = np.arccos(cos_theta)\n",
    "angulo_en_grados = np.degrees(theta)\n",
    "\n",
    "print(f\"{angulo_en_grados} grados\")"
   ]
  },
  {
   "attachments": {},
   "cell_type": "markdown",
   "metadata": {},
   "source": [
    "### 4.2\n",
    "  The angle that both segments forms in the image plane"
   ]
  },
  {
   "cell_type": "code",
   "execution_count": 1,
   "metadata": {},
   "outputs": [
    {
     "name": "stdout",
     "output_type": "stream",
     "text": [
      "57.55307694414637 grados\n"
     ]
    }
   ],
   "source": [
    "import numpy as np\n",
    "\n",
    "# Puntos de la matriz A\n",
    "A = np.array([[0.91147867, 3.72073483, 1.96592583, 2.66628767],\n",
    "              [1.93969262, 2.87938524, 1.        , 3.81907786],\n",
    "              [3.33036609, 4.43718931, 3.25881905, 4.50873636]])\n",
    "\n",
    "# Proyección de los puntos en el plano XY (ignorando la coordenada z)\n",
    "proyectados = A[:2, :]\n",
    "\n",
    "# Definición de los segmentos proyectados\n",
    "segmento1_proyectado = proyectados[:, 1] - proyectados[:, 0]\n",
    "segmento2_proyectado = proyectados[:, 3] - proyectados[:, 2]\n",
    "\n",
    "# Cálculo del ángulo entre los segmentos proyectados\n",
    "cos_theta = np.dot(segmento1_proyectado, segmento2_proyectado) / (\n",
    "            np.linalg.norm(segmento1_proyectado) * np.linalg.norm(segmento2_proyectado))\n",
    "theta = np.arccos(cos_theta)\n",
    "angulo_en_grados = np.degrees(theta)\n",
    "\n",
    "print(f\"{angulo_en_grados} grados\")"
   ]
  },
  {
   "attachments": {},
   "cell_type": "markdown",
   "metadata": {},
   "source": [
    "---"
   ]
  },
  {
   "attachments": {},
   "cell_type": "markdown",
   "metadata": {},
   "source": [
    "---"
   ]
  },
  {
   "attachments": {},
   "cell_type": "markdown",
   "metadata": {},
   "source": [
    "## Hints"
   ]
  },
  {
   "attachments": {},
   "cell_type": "markdown",
   "metadata": {},
   "source": [
    "### Representing scenes in 3d with matplotlib\n",
    "\n",
    "In 3D scenes have to be drawn from one (unique) reference frame, hence all the scene points have to be transformed to it previously to plot.\n",
    "\n",
    "The current sceene has two frames."
   ]
  },
  {
   "cell_type": "code",
   "execution_count": 25,
   "metadata": {},
   "outputs": [
    {
     "name": "stdout",
     "output_type": "stream",
     "text": [
      "[[ 1  0  0 -4]\n",
      " [ 0  0 -1  0]\n",
      " [ 0  1  0  0]\n",
      " [ 0  0  0  1]]\n",
      "[[ 1  0  0  4]\n",
      " [ 0  0  1  0]\n",
      " [ 0 -1  0  0]\n",
      " [ 0  0  0  1]]\n"
     ]
    }
   ],
   "source": [
    "import numpy as np\n",
    "import matplotlib.pyplot as plt\n",
    "from mpl_toolkits.mplot3d import Axes3D\n",
    "\n",
    "%matplotlib widget\n",
    "\n",
    "Wdwc = np.atleast_2d([4, 0, 0]).T\n",
    "\n",
    "CRW = np.array([[1, 0, 0], \n",
    "                [0, 0, -1],\n",
    "                [0, 1, 0]])  \n",
    "\n",
    "CAW = np.concatenate((CRW, -CRW@Wdwc),axis=1)\n",
    "CAW = np.concatenate((CAW, np.array([[0, 0, 0, 1]])),axis=0)\n",
    "print(CAW)\n",
    "\n",
    "WAC  = np.concatenate((CRW.T, Wdwc),axis=1)\n",
    "WAC = np.concatenate((WAC, np.array([[0, 0, 0, 1]])),axis=0)\n",
    "print(WAC)"
   ]
  },
  {
   "cell_type": "code",
   "execution_count": null,
   "metadata": {},
   "outputs": [
    {
     "ename": "TypeError",
     "evalue": "FigureBase.gca() got an unexpected keyword argument 'projection'",
     "output_type": "error",
     "traceback": [
      "\u001b[1;31m---------------------------------------------------------------------------\u001b[0m",
      "\u001b[1;31mTypeError\u001b[0m                                 Traceback (most recent call last)",
      "Cell \u001b[1;32mIn[26], line 12\u001b[0m\n\u001b[0;32m     10\u001b[0m \u001b[38;5;66;03m#Generate figure\u001b[39;00m\n\u001b[0;32m     11\u001b[0m fig \u001b[38;5;241m=\u001b[39m plt\u001b[38;5;241m.\u001b[39mfigure()\n\u001b[1;32m---> 12\u001b[0m ax \u001b[38;5;241m=\u001b[39m \u001b[43mfig\u001b[49m\u001b[38;5;241;43m.\u001b[39;49m\u001b[43mgca\u001b[49m\u001b[43m(\u001b[49m\u001b[43mprojection\u001b[49m\u001b[38;5;241;43m=\u001b[39;49m\u001b[38;5;124;43m'\u001b[39;49m\u001b[38;5;124;43m3d\u001b[39;49m\u001b[38;5;124;43m'\u001b[39;49m\u001b[43m)\u001b[49m\n\u001b[0;32m     14\u001b[0m \u001b[38;5;66;03m# plot first reference frame\u001b[39;00m\n\u001b[0;32m     15\u001b[0m x, y, z \u001b[38;5;241m=\u001b[39m np\u001b[38;5;241m.\u001b[39mhstack((origin[\u001b[38;5;241m0\u001b[39m],xaxis[\u001b[38;5;241m0\u001b[39m])), np\u001b[38;5;241m.\u001b[39mhstack((origin[\u001b[38;5;241m1\u001b[39m],xaxis[\u001b[38;5;241m1\u001b[39m])), np\u001b[38;5;241m.\u001b[39mhstack((origin[\u001b[38;5;241m2\u001b[39m], xaxis[\u001b[38;5;241m2\u001b[39m])) \n",
      "\u001b[1;31mTypeError\u001b[0m: FigureBase.gca() got an unexpected keyword argument 'projection'"
     ]
    },
    {
     "data": {
      "application/vnd.jupyter.widget-view+json": {
       "model_id": "8050362f828a4b36891c3863793f68f5",
       "version_major": 2,
       "version_minor": 0
      },
      "image/png": "[encoded data removed]",
      "text/html": [
       "\n",
       "            <div style=\"display: inline-block;\">\n",
       "                <div class=\"jupyter-widgets widget-label\" style=\"text-align: center;\">\n",
       "                    Figure\n",
       "                </div>\n",
       "                <img src='data:image/png;base64,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' width=640.0/>\n",
       "            </div>\n",
       "        "
      ],
      "text/plain": [
       "Canvas(toolbar=Toolbar(toolitems=[('Home', 'Reset original view', 'home', 'home'), ('Back', 'Back to previous …"
      ]
     },
     "metadata": {},
     "output_type": "display_data"
    }
   ],
   "source": [
    "origin = np.atleast_2d([0,0,0]).T\n",
    "xaxis = np.atleast_2d([1,0,0]).T\n",
    "yaxis = np.atleast_2d([0,1,0]).T\n",
    "zaxis = np.atleast_2d([0,0,1]).T\n",
    "\n",
    "Cx = WAC@np.append(xaxis, np.array([[1]]), axis=0)\n",
    "Cy = WAC@np.append(yaxis, np.array([[1]]), axis=0)\n",
    "Cz = WAC@np.append(zaxis, np.array([[1]]), axis=0)\n",
    "\n",
    "#Generate figure\n",
    "fig = plt.figure()\n",
    "ax = fig.gca(projection='3d')\n",
    "\n",
    "# plot first reference frame\n",
    "x, y, z = np.hstack((origin[0],xaxis[0])), np.hstack((origin[1],xaxis[1])), np.hstack((origin[2], xaxis[2])) \n",
    "ax.plot(x, y, z, 'b')\n",
    "x, y, z = np.hstack((origin[0],yaxis[0])), np.hstack((origin[1],yaxis[1])), np.hstack((origin[2], yaxis[2])) \n",
    "ax.plot(x, y, z, 'b')\n",
    "x, y, z = np.hstack((origin[0],zaxis[0])), np.hstack((origin[1],zaxis[1])), np.hstack((origin[2], zaxis[2])) \n",
    "ax.plot(x, y, z, 'r')\n",
    "\n",
    "# plot second reference frame\n",
    "x, y, z = np.hstack((Wdwc[0],Cx[0])), np.hstack((Wdwc[1],Cx[1])), np.hstack((Wdwc[2], Cx[2])) \n",
    "ax.plot(x, y, z, 'g')\n",
    "x, y, z = np.hstack((Wdwc[0],Cy[0])), np.hstack((Wdwc[1],Cy[1])), np.hstack((Wdwc[2], Cy[2])) \n",
    "ax.plot(x, y, z, 'g')\n",
    "x, y, z = np.hstack((Wdwc[0],Cz[0])), np.hstack((Wdwc[1],Cz[1])), np.hstack((Wdwc[2], Cz[2])) \n",
    "ax.plot(x, y, z, 'r')\n",
    "\n",
    "# plot lines\n",
    "\n",
    "x01 = np.atleast_2d([3, 3, -2]).T\n",
    "x11 = np.atleast_2d([5, 3, -2]).T\n",
    "v = np.atleast_2d([0, 1, 1]).T\n",
    "\n",
    "x02 = x01 + 10*v\n",
    "x12 = x11 + 10*v\n",
    "\n",
    "x, y, z = np.hstack((x01[0],x02[0])), np.hstack((x01[1],x02[1])), np.hstack((x01[2], x02[2])) \n",
    "ax.plot(x, y, z, 'y-o', markersize=4, markerfacecolor=(1, 0, 0, 0),\n",
    "             markeredgewidth=.4,  markeredgecolor=(1, 0, 0, 1))\n",
    "\n",
    "x, y, z = np.hstack((x11[0],x12[0])), np.hstack((x11[1],x12[1])), np.hstack((x11[2], x12[2])) \n",
    "ax.plot(x, y, z, 'c-o', markersize=4, markerfacecolor=(1, 0, 0, 0),\n",
    "             markeredgewidth=.4,  markeredgecolor=(0, 0, 1, 1))\n",
    "\n",
    "#Set axes titles\n",
    "ax.set_xlabel(\"x [u]\")\n",
    "ax.set_ylabel(\"y [u]\")\n",
    "ax.set_zlabel(\"z [u]\")\n",
    "\n",
    "#Set axes limits (adapt but maintain equal to not distort the image)\n",
    "plt.xlim([-3, 11])\n",
    "plt.ylim([-3, 11])\n",
    "ax.set_zlim([-3, 11])\n",
    "\n",
    "#Render the plot\n",
    "plt.show()\n",
    "\n",
    "\n"
   ]
  }
 ],
 "metadata": {
  "kernelspec": {
   "display_name": "Python 3.12.1 64-bit",
   "language": "python",
   "name": "python3"
  },
  "language_info": {
   "codemirror_mode": {
    "name": "ipython",
    "version": 3
   },
   "file_extension": ".py",
   "mimetype": "text/x-python",
   "name": "python",
   "nbconvert_exporter": "python",
   "pygments_lexer": "ipython3",
   "version": "3.10.8"
  },
  "orig_nbformat": 4,
  "vscode": {
   "interpreter": {
    "hash": "f8e816b8e619694b4d8d9c8b4355f32d2a58f718abab223489a65a2e6510d0e5"
   }
  }
 },
 "nbformat": 4,
 "nbformat_minor": 2
}
